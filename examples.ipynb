{
 "cells": [
  {
   "cell_type": "markdown",
   "metadata": {},
   "source": [
    "# Example usage"
   ]
  },
  {
   "cell_type": "code",
   "execution_count": null,
   "metadata": {},
   "outputs": [],
   "source": [
    "import numpy as np"
   ]
  },
  {
   "cell_type": "markdown",
   "metadata": {},
   "source": [
    "## 1. $\\mathcal{W}$- and $\\mathcal{M}$-information"
   ]
  },
  {
   "cell_type": "code",
   "execution_count": null,
   "metadata": {},
   "outputs": [],
   "source": [
    "from wimfo.W_M_Info import W_M_calculator"
   ]
  },
  {
   "cell_type": "markdown",
   "metadata": {},
   "source": [
    "### Discrete "
   ]
  },
  {
   "cell_type": "code",
   "execution_count": null,
   "metadata": {},
   "outputs": [],
   "source": [
    "from wimfo.utils.utils_discrete import test_pmf\n",
    "probs = test_pmf()\n",
    "\n",
    "# Calculate PhiID decomposition for the input (discrete) probability dsitribution\n",
    "W, M = W_M_calculator(probs[\"down_XOR\"], option=\"distr\", type=\"discrete\")\n",
    "print(\"W: \", W, \"\\tM: \", M)    \n",
    "\n",
    "# Alternatively, one could also calculate PhiID atoms from time series data:\n",
    "# Downward XOR\n",
    "x1 = np.random.randint(0, 2, 1000)\n",
    "x2 = np.random.randint(0, 2, 1000)\n",
    "y1 = (x1+x2)%2\n",
    "y2 = np.random.randint(0, 2, 1000)\n",
    "\n",
    "W, M = W_M_calculator(np.vstack([x1, x2, y1, y2]), option=\"data\", type=\"discrete\")\n",
    "print(\"W: \", W, \"\\tM: \", M)    "
   ]
  },
  {
   "cell_type": "markdown",
   "metadata": {},
   "source": [
    "### Gaussian"
   ]
  },
  {
   "cell_type": "code",
   "execution_count": null,
   "metadata": {},
   "outputs": [],
   "source": [
    "# Create a 2-bit copy system\n",
    "nx=2; ny=2\n",
    "A = 0.9*np.eye(nx)\n",
    "from scipy.linalg import solve_discrete_lyapunov\n",
    "cov_X = solve_discrete_lyapunov(A, np.eye(nx))\n",
    "cov_P = np.block([[cov_X, cov_X@(A.T)], [A@cov_X, cov_X]])\n",
    "\n",
    "# Calculate PhiID atoms from covariance matrix:\n",
    "W, M = W_M_calculator(cov_P, option=\"distr\", type=\"gaussian\")\n",
    "print(\"W: \", W, \"\\tM: \", M)    \n",
    "\n",
    "# ... or generate a Gaussian time series:\n",
    "X = np.zeros((nx, 10000))\n",
    "X[:, 0] = np.random.randn(nx)\n",
    "for t in range(1, 10000):\n",
    "    X[:, t] = A @ X[:, t-1] + np.random.randn(nx)\n",
    "\n",
    "# Calculate PhiID atoms again\n",
    "W, M = W_M_calculator(X, option=\"data\", type=\"gaussian\", verbose=True, optimiser=\"Newton\")\n",
    "print(\"W: \", W, \"\\tM: \", M)    "
   ]
  },
  {
   "cell_type": "markdown",
   "metadata": {},
   "source": [
    "## 2. Broja-PhiID"
   ]
  },
  {
   "cell_type": "code",
   "execution_count": null,
   "metadata": {},
   "outputs": [],
   "source": [
    "from wimfo.Broja_PhiID import PhiID"
   ]
  },
  {
   "cell_type": "markdown",
   "metadata": {},
   "source": [
    "### Discrete case"
   ]
  },
  {
   "cell_type": "code",
   "execution_count": null,
   "metadata": {},
   "outputs": [],
   "source": [
    "from wimfo.utils.utils_discrete import test_pmf\n",
    "probs = test_pmf()\n",
    "\n",
    "# Calculate PhiID decomposition for the input (discrete) probability dsitribution\n",
    "atoms = PhiID(probs[\"down_XOR\"], option=\"distr\", type=\"discrete\")\n",
    "print(\"PhiID atoms from probability distribution:\", atoms)\n",
    "\n",
    "# Alternatively, one could also calculate PhiID atoms from time series data:\n",
    "# Downward XOR\n",
    "x1 = np.random.randint(0, 2, 1000)\n",
    "x2 = np.random.randint(0, 2, 1000)\n",
    "y1 = (x1+x2)%2\n",
    "y2 = np.random.randint(0, 2, 1000)\n",
    "\n",
    "atoms_ts = PhiID(np.vstack([x1, x2, y1, y2]), option=\"data\", type=\"discrete\")\n",
    "print(\"PhiID atoms from time series data:\", atoms_ts)"
   ]
  },
  {
   "cell_type": "markdown",
   "metadata": {},
   "source": [
    "### Gaussian"
   ]
  },
  {
   "cell_type": "code",
   "execution_count": null,
   "metadata": {},
   "outputs": [],
   "source": [
    "# Create a 2-bit copy system\n",
    "nx=2; ny=2\n",
    "A = 0.9*np.eye(nx)\n",
    "from scipy.linalg import solve_discrete_lyapunov\n",
    "cov_X = solve_discrete_lyapunov(A, np.eye(nx))\n",
    "cov_P = np.block([[cov_X, cov_X@(A.T)], [A@cov_X, cov_X]])\n",
    "\n",
    "# Calculate PhiID atoms from covariance matrix:\n",
    "atoms = PhiID(cov_P, option=\"distr\", type=\"gaussian\")\n",
    "print(\"PhiID atoms from Gaussian covariance:\", atoms)\n",
    "\n",
    "# ... or generate a Gaussian time series:\n",
    "X = np.zeros((nx, 10000))\n",
    "X[:, 0] = np.random.randn(nx)\n",
    "for t in range(1, 10000):\n",
    "    X[:, t] = A @ X[:, t-1] + np.random.randn(nx)\n",
    "\n",
    "# Calculate PhiID atoms again\n",
    "atoms_ts = PhiID(X, option=\"data\", type=\"gaussian\", verbose=True, optimiser=\"Newton\")\n",
    "print(\"PhiID atoms from Gaussian time series data:\", atoms_ts)"
   ]
  }
 ],
 "metadata": {
  "kernelspec": {
   "display_name": "Python [conda env:WM_test2]",
   "language": "python",
   "name": "conda-env-WM_test2-py"
  },
  "language_info": {
   "codemirror_mode": {
    "name": "ipython",
    "version": 3
   },
   "file_extension": ".py",
   "mimetype": "text/x-python",
   "name": "python",
   "nbconvert_exporter": "python",
   "pygments_lexer": "ipython3",
   "version": "3.11.13"
  }
 },
 "nbformat": 4,
 "nbformat_minor": 2
}
