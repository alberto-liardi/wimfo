{
 "cells": [
  {
   "cell_type": "markdown",
   "metadata": {},
   "source": [
    "# Partial Information Decomposition\n",
    "\n",
    "The partial information decomposition is a method of decomposing the mutual information between a set of sources, $X_0, X_1, \\ldots$ and a target $Y$: $I\\left[X_0, X_1, \\ldots : Y\\right]$. In the bivariate sources case, the decomposition takes a particularly intuitive form: There is redundant information, unique information from $X_0$, unique information from $X_1$, and synergistic information.\n",
    "\n",
    "There are many proposals for how to quantify this decomposition. Here, we explore the behavior of many of these proposals on a wide variety of distribution. This survey helps clarify commonalities and differences is the variety of proposed approaches."
   ]
  },
  {
   "cell_type": "code",
   "execution_count": null,
   "metadata": {
    "collapsed": true
   },
   "outputs": [],
   "source": [
    "import dit\n",
    "from dit.pid.helpers import compare_measures\n",
    "from dit.pid.distributions import bivariates, trivariates\n",
    "dit.ditParams['print.exact'] = dit.ditParams['repr.print'] = True\n",
    "dit.ditParams['text.font'] = 'linechar'"
   ]
  },
  {
   "cell_type": "markdown",
   "metadata": {},
   "source": [
    "# Survey\n",
    "\n",
    "## Bivariate\n",
    "\n",
    "If `colorama` is installed, measure names that are green indicate that some partial information values are negative, measure names that are blue indicate that the lattice could not be completely computed, and measure names that are red indicate that the measure resulted in an inconsistancy in the lattice."
   ]
  },
  {
   "cell_type": "code",
   "execution_count": null,
   "metadata": {
    "collapsed": false
   },
   "outputs": [],
   "source": [
    "for name, dist in bivariates.items():\n",
    "    compare_measures(dist, name=name)"
   ]
  },
  {
   "cell_type": "markdown",
   "metadata": {},
   "source": [
    "## Trivariate\n",
    "\n",
    "In the example distributions \"xor cat\" and \"dbl xor\" below, it is widely believed that the negativity seen in many of the measures is a result not of a failure of the measure, but rather a sign that the redundancy lattice is not complete."
   ]
  },
  {
   "cell_type": "code",
   "execution_count": null,
   "metadata": {
    "collapsed": false
   },
   "outputs": [],
   "source": [
    "for name, dist in trivariates.items():\n",
    "    compare_measures(dist, name=name)"
   ]
  },
  {
   "cell_type": "code",
   "execution_count": null,
   "metadata": {},
   "outputs": [],
   "source": []
  }
 ],
 "metadata": {
  "kernelspec": {
   "display_name": "Python 3",
   "language": "python",
   "name": "python3"
  },
  "language_info": {
   "codemirror_mode": {
    "name": "ipython",
    "version": 3
   },
   "file_extension": ".py",
   "mimetype": "text/x-python",
   "name": "python",
   "nbconvert_exporter": "python",
   "pygments_lexer": "ipython3",
   "version": "3.6.2"
  }
 },
 "nbformat": 4,
 "nbformat_minor": 2
}
